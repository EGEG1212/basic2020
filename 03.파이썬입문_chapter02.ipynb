{
 "cells": [
  {
   "cell_type": "markdown",
   "metadata": {},
   "source": [
    "# 03.파이썬입문_chapter02_Q.5"
   ]
  },
  {
   "cell_type": "code",
   "execution_count": 3,
   "metadata": {},
   "outputs": [
    {
     "name": "stdout",
     "output_type": "stream",
     "text": [
      "삼각형 밑변 길이 : 10\n",
      "삼각형의 높이 : 3\n",
      "삼각형의 면적 : 15.0\n"
     ]
    }
   ],
   "source": [
    "# 삼각형의 면적 구하기\n",
    "width = 10\n",
    "height = 3\n",
    "area = width * height / 2\n",
    "print('삼각형 밑변 길이 :', width)\n",
    "print('삼각형의 높이 :', height)\n",
    "print('삼각형의 면적 :', area)"
   ]
  },
  {
   "cell_type": "code",
   "execution_count": 4,
   "metadata": {},
   "outputs": [
    {
     "name": "stdout",
     "output_type": "stream",
     "text": [
      "물건가격: 800 원\n",
      "구매개수: 3 개\n",
      "지불금액: 5000 원\n",
      "거스름돈: 2600 원\n"
     ]
    }
   ],
   "source": [
    "# 거스름돈 계산하기\n",
    "price = 800\n",
    "buy = 3\n",
    "pay = 5000\n",
    "change = pay - price * buy\n",
    "print('물건가격:', price, '원')\n",
    "print('구매개수:', buy, '개')\n",
    "print('지불금액:', pay, '원')\n",
    "print('거스름돈:', change, '원')"
   ]
  },
  {
   "cell_type": "code",
   "execution_count": 5,
   "metadata": {},
   "outputs": [
    {
     "name": "stdout",
     "output_type": "stream",
     "text": [
      "4\n",
      "4 -4\n"
     ]
    }
   ],
   "source": [
    "# 다음 프로그램의 실행 결과는?\n",
    "x = 20\n",
    "y = 4\n",
    "\n",
    "x = y % x\n",
    "print(x)\n",
    "\n",
    "y -= x * 2\n",
    "print(x,y)"
   ]
  },
  {
   "cell_type": "code",
   "execution_count": 7,
   "metadata": {},
   "outputs": [
    {
     "name": "stdout",
     "output_type": "stream",
     "text": [
      "성 홍\n",
      "이름 길동\n",
      "홍길동의 나이: 30세, 키: 171.50cm\n"
     ]
    }
   ],
   "source": [
    "# 문자열 추출과 문자열 포맷팅\n",
    "name = \"홍길동\"\n",
    "age = 30\n",
    "height = 171.5\n",
    "\n",
    "print('성',name[0])\n",
    "print('이름', name[1:3])\n",
    "print('%s의 나이: %d세, 키: %.2fcm' %(name, age, height))"
   ]
  },
  {
   "cell_type": "code",
   "execution_count": 10,
   "metadata": {},
   "outputs": [
    {
     "name": "stdout",
     "output_type": "stream",
     "text": [
      "학생 이름 입력: 다니엘\n",
      "국어 성적 입력:83\n",
      "영어 성적 입력:85\n",
      "수학 성적 입력:91\n",
      "이름:다니엘, 국어:83점, 영어:85점, 수학:91점, 평균:86.3점\n"
     ]
    }
   ],
   "source": [
    "# 성적 평균 구하기\n",
    "name = input('학생 이름 입력: ')\n",
    "kor = int(input('국어 성적 입력:'))\n",
    "eng = int(input('영어 성적 입력:'))\n",
    "math = int(input('수학 성적 입력:'))\n",
    "\n",
    "total = kor + eng + math\n",
    "avg = total / 3\n",
    "\n",
    "print('이름:%s, 국어:%d점, 영어:%d점, 수학:%d점, 평균:%.1f점'%(name, kor, eng, math, avg))"
   ]
  },
  {
   "cell_type": "code",
   "execution_count": null,
   "metadata": {},
   "outputs": [],
   "source": []
  }
 ],
 "metadata": {
  "kernelspec": {
   "display_name": "Python 3",
   "language": "python",
   "name": "python3"
  },
  "language_info": {
   "codemirror_mode": {
    "name": "ipython",
    "version": 3
   },
   "file_extension": ".py",
   "mimetype": "text/x-python",
   "name": "python",
   "nbconvert_exporter": "python",
   "pygments_lexer": "ipython3",
   "version": "3.8.5"
  }
 },
 "nbformat": 4,
 "nbformat_minor": 4
}
